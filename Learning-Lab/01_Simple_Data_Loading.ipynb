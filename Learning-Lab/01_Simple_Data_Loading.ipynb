{
 "cells": [
  {
   "cell_type": "markdown",
   "metadata": {},
   "source": [
    "# Simple Data Loading Tutorial\n",
    "\n",
    "## What You'll Learn\n",
    "In this tutorial, you'll learn how to read three common file formats:\n",
    "- **CSV files** (.csv)\n",
    "- **Excel files** (.xlsx)\n",
    "- **JSON files** (.json)\n",
    "\n",
    "## Why These Formats?\n",
    "- **CSV**: Simple, widely used for data tables\n",
    "- **Excel**: Popular in business, supports multiple sheets\n",
    "- **JSON**: Common for web data and APIs"
   ]
  },
  {
   "cell_type": "markdown",
   "metadata": {},
   "source": [
    "## Step 1: Import Required Libraries\n",
    "\n",
    "We need pandas to read our data files easily."
   ]
  },
  {
   "cell_type": "code",
   "execution_count": null,
   "metadata": {},
   "outputs": [],
   "source": [
    "import pandas as pd\n",
    "import json\n",
    "\n",
    "print(\"Libraries loaded successfully!\")"
   ]
  },
  {
   "cell_type": "markdown",
   "metadata": {},
   "source": [
    "## Step 2: Create Sample Data Files\n",
    "\n",
    "Let's create some sample files to practice with."
   ]
  },
  {
   "cell_type": "code",
   "execution_count": null,
   "metadata": {},
   "outputs": [],
   "source": [
    "# Create sample data\n",
    "sample_data = {\n",
    "    'Name': ['Alice', 'Bob', 'Charlie', 'Diana'],\n",
    "    'Age': [25, 30, 35, 28],\n",
    "    'City': ['New York', 'London', 'Tokyo', 'Paris'],\n",
    "    'Salary': [50000, 60000, 70000, 55000]\n",
    "}\n",
    "\n",
    "# Create a DataFrame\n",
    "df = pd.DataFrame(sample_data)\n",
    "print(\"Sample data created:\")\n",
    "print(df)"
   ]
  },
  {
   "cell_type": "markdown",
   "metadata": {},
   "source": [
    "## Step 3: Reading CSV Files\n",
    "\n",
    "CSV (Comma Separated Values) files are the most common data format."
   ]
  },
  {
   "cell_type": "code",
   "execution_count": null,
   "metadata": {},
   "outputs": [],
   "source": [
    "# First, let's create a CSV file\n",
    "df.to_csv('sample_data.csv', index=False)\n",
    "print(\"CSV file created: sample_data.csv\")\n",
    "\n",
    "# Now let's read it back\n",
    "csv_data = pd.read_csv('sample_data.csv')\n",
    "print(\"\\nReading CSV file:\")\n",
    "print(csv_data)\n",
    "print(f\"\\nFile shape: {csv_data.shape} (rows, columns)\")"
   ]
  },
  {
   "cell_type": "markdown",
   "metadata": {},
   "source": [
    "## Step 4: Reading Excel Files\n",
    "\n",
    "Excel files (.xlsx) can contain multiple sheets and formatting."
   ]
  },
  {
   "cell_type": "code",
   "execution_count": null,
   "metadata": {},
   "outputs": [],
   "source": [
    "# Create an Excel file\n",
    "df.to_excel('sample_data.xlsx', index=False, sheet_name='Employees')\n",
    "print(\"Excel file created: sample_data.xlsx\")\n",
    "\n",
    "# Read the Excel file\n",
    "excel_data = pd.read_excel('sample_data.xlsx', sheet_name='Employees')\n",
    "print(\"\\nReading Excel file:\")\n",
    "print(excel_data)\n",
    "print(f\"\\nFile shape: {excel_data.shape} (rows, columns)\")"
   ]
  },
  {
   "cell_type": "markdown",
   "metadata": {},
   "source": [
    "## Step 5: Reading JSON Files\n",
    "\n",
    "JSON (JavaScript Object Notation) files store data in a structured format."
   ]
  },
  {
   "cell_type": "code",
   "execution_count": null,
   "metadata": {},
   "outputs": [],
   "source": [
    "# Create a JSON file\n",
    "df.to_json('sample_data.json', orient='records', indent=2)\n",
    "print(\"JSON file created: sample_data.json\")\n",
    "\n",
    "# Method 1: Read JSON with pandas\n",
    "json_data = pd.read_json('sample_data.json')\n",
    "print(\"\\nReading JSON file with pandas:\")\n",
    "print(json_data)\n",
    "print(f\"\\nFile shape: {json_data.shape} (rows, columns)\")"
   ]
  },
  {
   "cell_type": "code",
   "execution_count": null,
   "metadata": {},
   "outputs": [],
   "source": [
    "# Method 2: Read JSON with built-in json library\n",
    "with open('sample_data.json', 'r') as file:\n",
    "    json_raw = json.load(file)\n",
    "\n",
    "print(\"Reading JSON file with json library:\")\n",
    "print(\"Type:\", type(json_raw))\n",
    "print(\"First record:\", json_raw[0])\n",
    "\n",
    "# Convert to DataFrame\n",
    "json_df = pd.DataFrame(json_raw)\n",
    "print(\"\\nConverted to DataFrame:\")\n",
    "print(json_df)"
   ]
  },
  {
   "cell_type": "markdown",
   "metadata": {},
   "source": [
    "## Step 6: Quick Comparison\n",
    "\n",
    "Let's compare the three methods side by side."
   ]
  },
  {
   "cell_type": "code",
   "execution_count": null,
   "metadata": {},
   "outputs": [],
   "source": [
    "print(\"=== COMPARISON ===\")\n",
    "print(\"\\n1. CSV Data:\")\n",
    "print(csv_data.head())\n",
    "\n",
    "print(\"\\n2. Excel Data:\")\n",
    "print(excel_data.head())\n",
    "\n",
    "print(\"\\n3. JSON Data:\")\n",
    "print(json_data.head())\n",
    "\n",
    "print(\"\\n=== FILE SIZES ===\")\n",
    "import os\n",
    "print(f\"CSV file size: {os.path.getsize('sample_data.csv')} bytes\")\n",
    "print(f\"Excel file size: {os.path.getsize('sample_data.xlsx')} bytes\")\n",
    "print(f\"JSON file size: {os.path.getsize('sample_data.json')} bytes\")"
   ]
  },
  {
   "cell_type": "markdown",
   "metadata": {},
   "source": [
    "## Step 7: Basic Data Information\n",
    "\n",
    "Once you load data, here are some useful commands to explore it."
   ]
  },
  {
   "cell_type": "code",
   "execution_count": null,
   "metadata": {},
   "outputs": [],
   "source": [
    "# Using the CSV data as an example\n",
    "data = csv_data\n",
    "\n",
    "print(\"=== BASIC DATA INFO ===\")\n",
    "print(f\"Shape: {data.shape}\")\n",
    "print(f\"Columns: {list(data.columns)}\")\n",
    "print(f\"Data types:\\n{data.dtypes}\")\n",
    "\n",
    "print(\"\\n=== FIRST FEW ROWS ===\")\n",
    "print(data.head())\n",
    "\n",
    "print(\"\\n=== BASIC STATISTICS ===\")\n",
    "print(data.describe())"
   ]
  },
  {
   "cell_type": "markdown",
   "metadata": {},
   "source": [
    "## Step 8: Practice Exercise\n",
    "\n",
    "Try these exercises to practice what you've learned!"
   ]
  },
  {
   "cell_type": "code",
   "execution_count": null,
   "metadata": {},
   "outputs": [],
   "source": [
    "# Exercise 1: Create your own data\n",
    "my_data = {\n",
    "    'Product': ['Laptop', 'Phone', 'Tablet', 'Watch'],\n",
    "    'Price': [1000, 800, 500, 300],\n",
    "    'Brand': ['Apple', 'Samsung', 'iPad', 'Apple']\n",
    "}\n",
    "\n",
    "# TODO: Convert this to a DataFrame and save as CSV\n",
    "# Your code here:\n",
    "\n",
    "\n",
    "# TODO: Read the CSV file back and display it\n",
    "# Your code here:\n"
   ]
  },
  {
   "cell_type": "markdown",
   "metadata": {},
   "source": [
    "## Summary\n",
    "\n",
    "You've learned how to:\n",
    "\n",
    "✅ **Read CSV files** with `pd.read_csv()`  \n",
    "✅ **Read Excel files** with `pd.read_excel()`  \n",
    "✅ **Read JSON files** with `pd.read_json()` or `json.load()`  \n",
    "✅ **Compare different file formats**  \n",
    "✅ **Get basic information about your data**  \n",
    "\n",
    "### Key Commands to Remember:\n",
    "```python\n",
    "# Reading files\n",
    "df = pd.read_csv('file.csv')\n",
    "df = pd.read_excel('file.xlsx')\n",
    "df = pd.read_json('file.json')\n",
    "\n",
    "# Exploring data\n",
    "df.head()      # First 5 rows\n",
    "df.shape       # (rows, columns)\n",
    "df.columns     # Column names\n",
    "df.dtypes      # Data types\n",
    "df.describe()  # Basic statistics\n",
    "```\n",
    "\n",
    "### Next Steps:\n",
    "- Try loading your own data files\n",
    "- Learn about data cleaning and preprocessing\n",
    "- Explore data visualization with matplotlib or seaborn"
   ]
  }
 ],
 "metadata": {
  "kernelspec": {
   "display_name": "Python 3",
   "language": "python",
   "name": "python3"
  },
  "language_info": {
   "codemirror_mode": {
    "name": "ipython",
    "version": 3
   },
   "file_extension": ".py",
   "mimetype": "text/x-python",
   "name": "python",
   "nbconvert_exporter": "python",
   "pygments_lexer": "ipython3",
   "version": "3.8.5"
  }
 },
 "nbformat": 4,
 "nbformat_minor": 4
}
